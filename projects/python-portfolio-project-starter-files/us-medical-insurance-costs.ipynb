{
 "cells": [
  {
   "cell_type": "markdown",
   "metadata": {},
   "source": [
    "# U.S. Medical Insurance Costs\n",
    "\n",
    "In this project, I will analyze some data about the US health insurance costs with the knowledge of fundamentals of Python that I learned in Codecademy."
   ]
  },
  {
   "cell_type": "markdown",
   "metadata": {},
   "source": [
    "## Import the data\n",
    "\n",
    "I import my data with the help of Python's module CSV and saved him in the list \"insurance_list\" where every member of the list is a dictionary with the information of every person that is in the file."
   ]
  },
  {
   "cell_type": "code",
   "execution_count": 16,
   "metadata": {},
   "outputs": [],
   "source": [
    "import csv\n",
    "with open(\"insurance.csv\") as insurance_csv:\n",
    "    insurance_reader = csv.DictReader(insurance_csv)\n",
    "    insurance_list = [row for row in insurance_reader]"
   ]
  },
  {
   "cell_type": "markdown",
   "metadata": {},
   "source": [
    "## Divide by region\n",
    "\n",
    "Then I divide the data by regions to help with my analyze"
   ]
  },
  {
   "cell_type": "code",
   "execution_count": 17,
   "metadata": {},
   "outputs": [],
   "source": [
    "southwest_region = [insurance for insurance in insurance_list if insurance[\"region\"] == \"southwest\"]\n",
    "southeast_region = [insurance for insurance in insurance_list if insurance[\"region\"] == \"southeast\"]\n",
    "northwest_region = [insurance for insurance in insurance_list if insurance[\"region\"] == \"northwest\"]\n",
    "northeast_region = [insurance for insurance in insurance_list if insurance[\"region\"] == \"northeast\"]\n",
    "regions = [southwest_region, southeast_region, northwest_region, northeast_region]"
   ]
  },
  {
   "cell_type": "markdown",
   "metadata": {},
   "source": [
    "## Average of the data\n",
    "\n",
    "In this part, I create a function that calculates the average of any parameter such as age, BMI, number of children, etc."
   ]
  },
  {
   "cell_type": "code",
   "execution_count": 18,
   "metadata": {},
   "outputs": [],
   "source": [
    "def average_function(persons,parameter):\n",
    "    soma = 0\n",
    "    for person in persons:\n",
    "        soma += float(person[parameter])\n",
    "    return soma/(len(persons))"
   ]
  },
  {
   "cell_type": "code",
   "execution_count": 19,
   "metadata": {},
   "outputs": [
    {
     "data": {
      "text/plain": [
       "'The average age in the data is 39.2'"
      ]
     },
     "execution_count": 19,
     "metadata": {},
     "output_type": "execute_result"
    }
   ],
   "source": [
    "#average age\n",
    "average_age = average_function(insurance_list,\"age\")\n",
    "\"The average age in the data is {}\".format(round(average_age,1))"
   ]
  },
  {
   "cell_type": "code",
   "execution_count": 20,
   "metadata": {},
   "outputs": [
    {
     "data": {
      "text/plain": [
       "'The average BMI value is 30.663'"
      ]
     },
     "execution_count": 20,
     "metadata": {},
     "output_type": "execute_result"
    }
   ],
   "source": [
    "#average bmi\n",
    "average_bmi = average_function(insurance_list,\"bmi\")\n",
    "\"The average BMI value is {}\".format(round(average_bmi,3))"
   ]
  },
  {
   "cell_type": "code",
   "execution_count": 21,
   "metadata": {},
   "outputs": [
    {
     "data": {
      "text/plain": [
       "'These people have on average 1.09 children.'"
      ]
     },
     "execution_count": 21,
     "metadata": {},
     "output_type": "execute_result"
    }
   ],
   "source": [
    "#average children\n",
    "average_children = average_function(insurance_list,\"children\")\n",
    "\"These people have on average {} children.\".format(round(average_children,2))"
   ]
  },
  {
   "cell_type": "code",
   "execution_count": 22,
   "metadata": {},
   "outputs": [
    {
     "data": {
      "text/plain": [
       "\"The average insurance cost by region is: {'Southwest': 12346.937, 'Southeast': 14735.411, 'Northwest': 12417.575, 'Northeast': 13406.385}.\""
      ]
     },
     "execution_count": 22,
     "metadata": {},
     "output_type": "execute_result"
    }
   ],
   "source": [
    "#average insurance cost\n",
    "average_insurance_cost = {\"Southwest\":round(average_function(southwest_region,\"charges\"),3), \"Southeast\": round(average_function(southeast_region,\"charges\"),3), \n",
    "                          \"Northwest\":round(average_function(northwest_region,\"charges\"),3), \"Northeast\":round(average_function(northeast_region,\"charges\"),3)}\n",
    "\"The average insurance cost by region is: {}.\".format(average_insurance_cost)"
   ]
  },
  {
   "cell_type": "markdown",
   "metadata": {},
   "source": [
    "## Number of smokers\n",
    "\n",
    "Now I create a function that calculate the number of smokers by region."
   ]
  },
  {
   "cell_type": "code",
   "execution_count": 23,
   "metadata": {},
   "outputs": [
    {
     "data": {
      "text/plain": [
       "\"The number of smokers by region are: {'Southwest': 58, 'Southeast': 91, 'Northwest': 58, 'Northeast': 67}\""
      ]
     },
     "execution_count": 23,
     "metadata": {},
     "output_type": "execute_result"
    }
   ],
   "source": [
    "#Number of smokers\n",
    "def number_smoker(regions):\n",
    "    soma = 0\n",
    "    for region in regions:\n",
    "        if region[\"smoker\"] == \"yes\":\n",
    "            soma += 1\n",
    "    return soma\n",
    "\n",
    "smokers = {\"Southwest\":number_smoker(southwest_region), \"Southeast\": number_smoker(southeast_region), \n",
    "            \"Northwest\":number_smoker(northwest_region), \"Northeast\":number_smoker(northeast_region)}\n",
    "\"The number of smokers by region are: {}\".format(smokers)"
   ]
  },
  {
   "cell_type": "markdown",
   "metadata": {},
   "source": [
    "## BMI classification\n",
    "\n",
    "Now with a function, I divide the people by number of BMI with the following categories: \"Underweight\" with a BMI less than 18.5, \"Normal weight\" with a BMI between 18.5 and 25, \"Overweight\" with a BMI between 25 and 30 and finally \"Obesity\" with a BMI more than 30."
   ]
  },
  {
   "cell_type": "code",
   "execution_count": 24,
   "metadata": {},
   "outputs": [],
   "source": [
    "#Classification bmi\n",
    "def bmi_classification_function(persons):\n",
    "    underweight = 0\n",
    "    normal_weight = 0\n",
    "    overweight = 0\n",
    "    obesity = 0\n",
    "    for person in persons:\n",
    "        if float(person[\"bmi\"]) < 18.5:\n",
    "            underweight += 1\n",
    "        elif 18.5 <= float(person[\"bmi\"]) < 25:\n",
    "            normal_weight += 1\n",
    "        elif 25 <= float(person[\"bmi\"]) < 30:\n",
    "            overweight += 1\n",
    "        else:\n",
    "            obesity += 1\n",
    "    return {\"Underweight\": underweight, \"Normal weight\": normal_weight, \"Overweight\":overweight, \"Obesity\":obesity}"
   ]
  },
  {
   "cell_type": "code",
   "execution_count": 27,
   "metadata": {},
   "outputs": [
    {
     "name": "stdout",
     "output_type": "stream",
     "text": [
      "Southwest: {'Underweight': 3, 'Normal weight': 48, 'Overweight': 101, 'Obesity': 173}\n",
      "Southeast: {'Underweight': 0, 'Normal weight': 41, 'Overweight': 80, 'Obesity': 243}\n",
      "Northwest: {'Underweight': 7, 'Normal weight': 63, 'Overweight': 107, 'Obesity': 148}\n",
      "Northeast: {'Underweight': 10, 'Normal weight': 73, 'Overweight': 98, 'Obesity': 143}\n"
     ]
    }
   ],
   "source": [
    "bmi_classification_regions = [bmi_classification_function(region) for region in regions]\n",
    "region_name = [\"Southwest\", \"Southeast\",  \"Northwest\", \"Northeast\"]\n",
    "for i in range(len(regions)):\n",
    "    print(\"{region}: {bmi_classification}\".format(region=region_name[i], bmi_classification=bmi_classification_regions[i]))"
   ]
  },
  {
   "cell_type": "code",
   "execution_count": 29,
   "metadata": {},
   "outputs": [
    {
     "data": {
      "text/plain": [
       "\"All regions: {'Underweight': 20, 'Normal weight': 225, 'Overweight': 386, 'Obesity': 707}\""
      ]
     },
     "execution_count": 29,
     "metadata": {},
     "output_type": "execute_result"
    }
   ],
   "source": [
    "bmi_classification_general = bmi_classification_function(insurance_list)\n",
    "\"All regions: {bmi_classification}\".format(bmi_classification=bmi_classification_general)"
   ]
  },
  {
   "cell_type": "markdown",
   "metadata": {},
   "source": [
    "## Age classification\n",
    "\n",
    "Now I divide every person by age into the following groups: 0-20 years old, 20-30 years old, 30-40 years old, 40-50 years old, 50-60 years old, and finally more than 60 years."
   ]
  },
  {
   "cell_type": "code",
   "execution_count": 31,
   "metadata": {},
   "outputs": [],
   "source": [
    "def age_classification_function(persons):\n",
    "    age_0_20 = 0\n",
    "    age_20_30 = 0\n",
    "    age_30_40 = 0\n",
    "    age_40_50 = 0\n",
    "    age_50_60 = 0\n",
    "    age_60 = 0\n",
    "    for person in persons:\n",
    "        if float(person[\"age\"]) <= 20:\n",
    "            age_0_20 += 1\n",
    "        elif 20 < float(person[\"age\"]) <= 30:\n",
    "            age_20_30 += 1\n",
    "        elif 30 < float(person[\"age\"]) <= 40:\n",
    "            age_30_40 += 1\n",
    "        elif 40 < float(person[\"age\"]) <= 50:\n",
    "            age_40_50 += 1\n",
    "        elif 50 < float(person[\"age\"]) <= 60:\n",
    "            age_50_60 += 1\n",
    "        else:\n",
    "            age_60 += 1\n",
    "    return {\"0-20\": age_0_20, \"20-30\": age_20_30, \"30-40\": age_30_40, \"40-50\": age_40_50, \"50-60\":age_50_60, \">60\":age_60}\n"
   ]
  },
  {
   "cell_type": "code",
   "execution_count": 32,
   "metadata": {},
   "outputs": [
    {
     "name": "stdout",
     "output_type": "stream",
     "text": [
      "Southwest: {'0-20': 39, '20-30': 67, '30-40': 62, '40-50': 69, '50-60': 66, '>60': 22}\n",
      "Southeast: {'0-20': 48, '20-30': 75, '30-40': 69, '40-50': 78, '50-60': 69, '>60': 25}\n",
      "Northwest: {'0-20': 41, '20-30': 67, '30-40': 64, '40-50': 66, '50-60': 64, '>60': 23}\n",
      "Northeast: {'0-20': 38, '20-30': 69, '30-40': 62, '40-50': 68, '50-60': 66, '>60': 21}\n"
     ]
    }
   ],
   "source": [
    "age_classification_regions = [age_classification_function(region) for region in regions]\n",
    "region_name = [\"Southwest\", \"Southeast\",  \"Northwest\", \"Northeast\"]\n",
    "for i in range(len(regions)):\n",
    "    print(\"{region}: {age_classification}\".format(region=region_name[i], age_classification=age_classification_regions[i]))"
   ]
  },
  {
   "cell_type": "code",
   "execution_count": 33,
   "metadata": {},
   "outputs": [
    {
     "data": {
      "text/plain": [
       "\"All regions: {'0-20': 166, '20-30': 278, '30-40': 257, '40-50': 281, '50-60': 265, '>60': 91}\""
      ]
     },
     "execution_count": 33,
     "metadata": {},
     "output_type": "execute_result"
    }
   ],
   "source": [
    "age_classification_general = age_classification_function(insurance_list)\n",
    "\"All regions: {age_classification}\".format(age_classification=age_classification_general)"
   ]
  },
  {
   "cell_type": "markdown",
   "metadata": {},
   "source": [
    "## Number of children\n",
    "\n",
    "Finally, I determinate the number of children of every person."
   ]
  },
  {
   "cell_type": "code",
   "execution_count": 34,
   "metadata": {},
   "outputs": [],
   "source": [
    "def children_classification_function(persons):\n",
    "    zero_children = 0\n",
    "    one_child = 0\n",
    "    two_children = 0\n",
    "    three_more_children = 0\n",
    "    for person in persons:\n",
    "        if float(person[\"children\"]) == 0:\n",
    "            zero_children += 1\n",
    "        elif float(person[\"children\"]) == 1:\n",
    "            one_child += 1\n",
    "        elif float(person[\"children\"]) == 2:\n",
    "            two_children += 1\n",
    "        else:\n",
    "            three_more_children += 1\n",
    "    return {\"0\":zero_children, \"1\": one_child, \"2\": two_children, \">3\":three_more_children}\n"
   ]
  },
  {
   "cell_type": "code",
   "execution_count": 35,
   "metadata": {},
   "outputs": [
    {
     "name": "stdout",
     "output_type": "stream",
     "text": [
      "Southwest: {'0': 138, '1': 78, '2': 57, '>3': 52}\n",
      "Southeast: {'0': 157, '1': 95, '2': 66, '>3': 46}\n",
      "Northwest: {'0': 132, '1': 74, '2': 66, '>3': 53}\n",
      "Northeast: {'0': 147, '1': 77, '2': 51, '>3': 49}\n"
     ]
    }
   ],
   "source": [
    "children_classification_regions = [children_classification_function(region) for region in regions]\n",
    "region_name = [\"Southwest\", \"Southeast\",  \"Northwest\", \"Northeast\"]\n",
    "for i in range(len(regions)):\n",
    "    print(\"{region}: {children_classification}\".format(region=region_name[i], children_classification=children_classification_regions[i]))"
   ]
  },
  {
   "cell_type": "code",
   "execution_count": 36,
   "metadata": {},
   "outputs": [
    {
     "data": {
      "text/plain": [
       "\"All regions: {'0': 574, '1': 324, '2': 240, '>3': 200}\""
      ]
     },
     "execution_count": 36,
     "metadata": {},
     "output_type": "execute_result"
    }
   ],
   "source": [
    "children_classification_general = children_classification_function(insurance_list)\n",
    "\"All regions: {children_classification}\".format(children_classification=children_classification_general)"
   ]
  },
  {
   "cell_type": "markdown",
   "metadata": {},
   "source": [
    "# Conclusion\n",
    "\n",
    "What do we conclude about this data?\n",
    "- The average age is 39 years old, and people have one child on average.\n",
    "- Besides, the average BMI of the population is 30.663, which is in the obesity level.\n",
    "- The region with the most number of smokers is in the Southeast of the USA.\n",
    "- In terms of BMI, we can see that the number of people in every category is very similar except in the case of obesity, where the region of the Southeast has the most people with obesity.\n",
    "- The distribution of age and number of children are very similar in every region, so this information isn't relevant for our analyses.\n",
    "- Finally, the region with the most expensive average insurance cost is the Southeast region, which makes sense because have the most people with obesity and has more smokers. And the zones of The USA with de same number of smokers (Southwest and Northwest) have average insurance costs very similar, and the other regions with more smokers (Southeast and Northeast) have more expensive insurance costs. These facts show us that smoking is a factor that has been very influential for the medical insurance charges, based on my analysis."
   ]
  },
  {
   "cell_type": "code",
   "execution_count": null,
   "metadata": {},
   "outputs": [],
   "source": []
  }
 ],
 "metadata": {
  "kernelspec": {
   "display_name": "Python 3 (ipykernel)",
   "language": "python",
   "name": "python3"
  },
  "language_info": {
   "codemirror_mode": {
    "name": "ipython",
    "version": 3
   },
   "file_extension": ".py",
   "mimetype": "text/x-python",
   "name": "python",
   "nbconvert_exporter": "python",
   "pygments_lexer": "ipython3",
   "version": "3.9.7"
  }
 },
 "nbformat": 4,
 "nbformat_minor": 4
}
